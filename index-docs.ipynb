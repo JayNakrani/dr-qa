{
 "cells": [
  {
   "cell_type": "markdown",
   "id": "4d922b78-3f84-4717-ab91-30cb230f4a10",
   "metadata": {},
   "source": [
    "# Index Documents\n",
    "\n",
    "This script reads the documents from `data` directory and builds a semantic index over it using [LLamaIndex](https://github.com/jerryjliu/llama_index). The index is persisted in the `index` directory."
   ]
  },
  {
   "cell_type": "markdown",
   "id": "73bc2b9a-4a33-4ea9-8d36-dd9fbd370638",
   "metadata": {},
   "source": [
    "## Set-up"
   ]
  },
  {
   "cell_type": "code",
   "execution_count": 12,
   "id": "88a09baa-2f91-43c2-88d6-a082a1642a52",
   "metadata": {},
   "outputs": [
    {
     "name": "stdout",
     "output_type": "stream",
     "text": [
      "set-up complete\n"
     ]
    }
   ],
   "source": [
    "from llama_index import VectorStoreIndex, SimpleDirectoryReader, ServiceContext\n",
    "from llama_index.llms import OpenAI\n",
    "\n",
    "llm = OpenAI(\n",
    "    # No creativity at all -- as in do not hallucinate. Be factually correct, always!\n",
    "    temperature = 0.0\n",
    ")\n",
    "service_context = ServiceContext.from_defaults(llm=llm)\n",
    "\n",
    "print('set-up complete')"
   ]
  },
  {
   "cell_type": "markdown",
   "id": "d11d37af-afd3-4326-b913-4051d1bf39fb",
   "metadata": {},
   "source": [
    "## Read & Index documents"
   ]
  },
  {
   "cell_type": "code",
   "execution_count": 14,
   "id": "17e0c48b-8b79-4255-a941-5ad4ff6f695a",
   "metadata": {},
   "outputs": [
    {
     "name": "stdout",
     "output_type": "stream",
     "text": [
      "successfully indexed documents\n"
     ]
    }
   ],
   "source": [
    "# Read files\n",
    "documents = SimpleDirectoryReader('data').load_data()\n",
    "\n",
    "# Index and persist index locally\n",
    "index = VectorStoreIndex.from_documents(documents, service_context=service_context)\n",
    "index.storage_context.persist(persist_dir = 'index')\n",
    "\n",
    "print('successfully indexed documents')"
   ]
  }
 ],
 "metadata": {
  "kernelspec": {
   "display_name": "Python 3 (ipykernel)",
   "language": "python",
   "name": "python3"
  },
  "language_info": {
   "codemirror_mode": {
    "name": "ipython",
    "version": 3
   },
   "file_extension": ".py",
   "mimetype": "text/x-python",
   "name": "python",
   "nbconvert_exporter": "python",
   "pygments_lexer": "ipython3",
   "version": "3.10.6"
  }
 },
 "nbformat": 4,
 "nbformat_minor": 5
}
